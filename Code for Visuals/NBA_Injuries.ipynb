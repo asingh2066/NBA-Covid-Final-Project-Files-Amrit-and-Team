{
  "nbformat": 4,
  "nbformat_minor": 0,
  "metadata": {
    "colab": {
      "name": "NBA_Injuries",
      "provenance": [],
      "collapsed_sections": [],
      "toc_visible": true
    },
    "kernelspec": {
      "name": "python3",
      "display_name": "Python 3"
    },
    "language_info": {
      "name": "python"
    }
  },
  "cells": [
    {
      "cell_type": "code",
      "metadata": {
        "colab": {
          "base_uri": "https://localhost:8080/"
        },
        "id": "LIkWCZWt30AL",
        "outputId": "c883affe-c7b8-4c94-f57c-b90e0ed29a6f"
      },
      "source": [
        "pip install chart_studio"
      ],
      "execution_count": 15,
      "outputs": [
        {
          "output_type": "stream",
          "text": [
            "Requirement already satisfied: chart_studio in /usr/local/lib/python3.7/dist-packages (1.1.0)\n",
            "Requirement already satisfied: requests in /usr/local/lib/python3.7/dist-packages (from chart_studio) (2.23.0)\n",
            "Requirement already satisfied: six in /usr/local/lib/python3.7/dist-packages (from chart_studio) (1.15.0)\n",
            "Requirement already satisfied: plotly in /usr/local/lib/python3.7/dist-packages (from chart_studio) (4.4.1)\n",
            "Requirement already satisfied: retrying>=1.3.3 in /usr/local/lib/python3.7/dist-packages (from chart_studio) (1.3.3)\n",
            "Requirement already satisfied: chardet<4,>=3.0.2 in /usr/local/lib/python3.7/dist-packages (from requests->chart_studio) (3.0.4)\n",
            "Requirement already satisfied: certifi>=2017.4.17 in /usr/local/lib/python3.7/dist-packages (from requests->chart_studio) (2020.12.5)\n",
            "Requirement already satisfied: urllib3!=1.25.0,!=1.25.1,<1.26,>=1.21.1 in /usr/local/lib/python3.7/dist-packages (from requests->chart_studio) (1.24.3)\n",
            "Requirement already satisfied: idna<3,>=2.5 in /usr/local/lib/python3.7/dist-packages (from requests->chart_studio) (2.10)\n"
          ],
          "name": "stdout"
        }
      ]
    },
    {
      "cell_type": "code",
      "metadata": {
        "id": "MxVGYCwmycMT"
      },
      "source": [
        "\n",
        "import chart_studio.tools as tls\n",
        "tls.set_credentials_file(username='hamzahsal',api_key='enLB2veyvljNMSrLwO0C')\n",
        "\n",
        "\n"
      ],
      "execution_count": 16,
      "outputs": []
    },
    {
      "cell_type": "code",
      "metadata": {
        "id": "mYigEr9afRfV"
      },
      "source": [
        "# importing csv module\n",
        "import csv\n",
        "\n",
        "# csv file name\n",
        "filename = \"injuries_2010-2020.csv\""
      ],
      "execution_count": 17,
      "outputs": []
    },
    {
      "cell_type": "code",
      "metadata": {
        "id": "G2IN_73mf0c9"
      },
      "source": [
        "fields = []\n",
        "rows = []\n",
        "team_col = []\n",
        "date_col = []\n",
        "# reading csv file\n",
        "with open(filename, 'r') as csvfile:\n",
        "    # creating a csv reader object\n",
        "    csvreader = csv.reader(csvfile)\n",
        "    for row in csvreader:\n",
        "        rows.append(row)\n",
        "#Creates list of data lists starting at date 2020-03-02 and correspinding team name of injured player\n",
        "for row in rows[(csvreader.line_num-521):27105]:\n",
        "    team_col.append(row[1])\n",
        "    date_col.append(row[0])"
      ],
      "execution_count": 18,
      "outputs": []
    },
    {
      "cell_type": "code",
      "metadata": {
        "colab": {
          "base_uri": "https://localhost:8080/"
        },
        "id": "yMrtkT28o8pn",
        "outputId": "af71630a-0453-4dd7-a92d-243bc547f943"
      },
      "source": [
        "\n",
        "# function to get unique values\n",
        "def unique(list1):\n",
        " \n",
        "    # intilize a null list\n",
        "    unique_list = []\n",
        "     \n",
        "    # traverse for all elements\n",
        "    for x in list1:\n",
        "        # check if exists in unique_list or not\n",
        "        if x not in unique_list:\n",
        "            unique_list.append(x)\n",
        "    return(unique_list)\n",
        "    # print list\n",
        "    #for x in unique_list:\n",
        "    #    print (x)\n",
        "\n",
        "all_teams= unique(team_col)\n",
        "print(all_teams)\n",
        "\n"
      ],
      "execution_count": 19,
      "outputs": [
        {
          "output_type": "stream",
          "text": [
            "['Warriors', '76ers', 'Blazers', 'Bucks', 'Bulls', 'Cavaliers', 'Hawks', 'Magic', 'Mavericks', 'Pacers', 'Spurs', 'Thunder', 'Celtics', 'Hornets', 'Lakers', 'Nuggets', 'Pistons', 'Raptors', 'Suns', 'Knicks', 'Nets', 'Wizards', 'Heat', 'Pelicans', 'Rockets', 'Kings', 'Timberwolves', 'Clippers', 'Grizzlies', 'Jazz']\n"
          ],
          "name": "stdout"
        }
      ]
    },
    {
      "cell_type": "code",
      "metadata": {
        "colab": {
          "base_uri": "https://localhost:8080/"
        },
        "id": "XYrN64z4igC7",
        "outputId": "6ca5d993-6672-4a64-91a8-94868ed0fcaf"
      },
      "source": [
        "print(date_col)\n",
        "print(team_col)"
      ],
      "execution_count": 20,
      "outputs": [
        {
          "output_type": "stream",
          "text": [
            "['2020-03-01', '2020-03-02', '2020-03-02', '2020-03-02', '2020-03-02', '2020-03-02', '2020-03-02', '2020-03-02', '2020-03-02', '2020-03-02', '2020-03-02', '2020-03-02', '2020-03-02', '2020-03-02', '2020-03-03', '2020-03-03', '2020-03-03', '2020-03-03', '2020-03-03', '2020-03-03', '2020-03-03', '2020-03-03', '2020-03-03', '2020-03-03', '2020-03-03', '2020-03-03', '2020-03-03', '2020-03-03', '2020-03-04', '2020-03-04', '2020-03-04', '2020-03-04', '2020-03-04', '2020-03-04', '2020-03-04', '2020-03-04', '2020-03-04', '2020-03-04', '2020-03-04', '2020-03-04', '2020-03-04', '2020-03-04', '2020-03-04', '2020-03-04', '2020-03-04', '2020-03-04', '2020-03-04', '2020-03-05', '2020-03-05', '2020-03-05', '2020-03-05', '2020-03-05', '2020-03-05', '2020-03-06', '2020-03-06', '2020-03-06', '2020-03-06', '2020-03-06', '2020-03-06', '2020-03-06', '2020-03-06', '2020-03-06', '2020-03-06', '2020-03-06', '2020-03-06', '2020-03-06', '2020-03-06', '2020-03-06', '2020-03-06', '2020-03-06', '2020-03-06', '2020-03-06', '2020-03-06', '2020-03-06', '2020-03-06', '2020-03-06', '2020-03-06', '2020-03-07', '2020-03-07', '2020-03-07', '2020-03-07', '2020-03-07', '2020-03-07', '2020-03-07', '2020-03-07', '2020-03-07', '2020-03-07', '2020-03-07', '2020-03-07', '2020-03-08', '2020-03-08', '2020-03-08', '2020-03-08', '2020-03-08', '2020-03-08', '2020-03-08', '2020-03-08', '2020-03-08', '2020-03-08', '2020-03-08', '2020-03-08', '2020-03-08', '2020-03-08', '2020-03-08', '2020-03-08', '2020-03-08', '2020-03-08', '2020-03-08', '2020-03-08', '2020-03-08', '2020-03-08', '2020-03-08', '2020-03-09', '2020-03-09', '2020-03-09', '2020-03-09', '2020-03-09', '2020-03-09', '2020-03-09', '2020-03-09', '2020-03-10', '2020-03-10', '2020-03-10', '2020-03-10', '2020-03-10', '2020-03-10', '2020-03-10', '2020-03-10', '2020-03-10', '2020-03-10', '2020-03-10', '2020-03-10', '2020-03-10', '2020-03-10', '2020-03-10', '2020-03-10', '2020-03-10', '2020-03-10', '2020-03-10', '2020-03-11', '2020-03-11', '2020-03-11', '2020-03-11', '2020-03-11', '2020-03-11', '2020-03-11', '2020-03-11', '2020-03-11', '2020-03-11', '2020-03-11', '2020-03-11', '2020-03-11', '2020-03-11', '2020-03-11', '2020-03-11', '2020-03-11', '2020-03-11', '2020-03-11', '2020-03-12', '2020-03-13', '2020-03-14', '2020-03-17', '2020-03-18', '2020-03-19', '2020-05-18', '2020-05-20', '2020-06-08', '2020-06-22', '2020-06-24', '2020-07-07', '2020-07-07', '2020-07-07', '2020-07-09', '2020-07-13', '2020-07-15', '2020-07-21', '2020-07-29', '2020-07-29', '2020-07-29', '2020-07-29', '2020-07-29', '2020-07-29', '2020-07-30', '2020-07-30', '2020-07-30', '2020-07-30', '2020-07-30', '2020-07-30', '2020-07-30', '2020-07-30', '2020-07-30', '2020-07-30', '2020-07-30', '2020-07-30', '2020-07-30', '2020-07-30', '2020-07-30', '2020-07-31', '2020-07-31', '2020-07-31', '2020-07-31', '2020-07-31', '2020-07-31', '2020-07-31', '2020-07-31', '2020-07-31', '2020-07-31', '2020-07-31', '2020-07-31', '2020-07-31', '2020-07-31', '2020-07-31', '2020-07-31', '2020-07-31', '2020-07-31', '2020-07-31', '2020-07-31', '2020-07-31', '2020-07-31', '2020-07-31', '2020-07-31', '2020-07-31', '2020-07-31', '2020-07-31', '2020-07-31', '2020-07-31', '2020-07-31', '2020-07-31', '2020-07-31', '2020-07-31', '2020-07-31', '2020-07-31', '2020-07-31', '2020-07-31', '2020-07-31', '2020-07-31', '2020-07-31', '2020-07-31', '2020-07-31', '2020-08-01', '2020-08-01', '2020-08-01', '2020-08-01', '2020-08-01', '2020-08-01', '2020-08-01', '2020-08-01', '2020-08-02', '2020-08-02', '2020-08-02', '2020-08-02', '2020-08-02', '2020-08-03', '2020-08-03', '2020-08-03', '2020-08-03', '2020-08-03', '2020-08-03', '2020-08-03', '2020-08-03', '2020-08-03', '2020-08-04', '2020-08-04', '2020-08-04', '2020-08-04', '2020-08-04', '2020-08-04', '2020-08-04', '2020-08-04', '2020-08-04', '2020-08-04', '2020-08-04', '2020-08-05', '2020-08-05', '2020-08-05', '2020-08-05', '2020-08-05', '2020-08-05', '2020-08-05', '2020-08-05', '2020-08-05', '2020-08-05', '2020-08-06', '2020-08-06', '2020-08-06', '2020-08-06', '2020-08-06', '2020-08-06', '2020-08-06', '2020-08-06', '2020-08-06', '2020-08-06', '2020-08-06', '2020-08-06', '2020-08-06', '2020-08-06', '2020-08-07', '2020-08-07', '2020-08-07', '2020-08-07', '2020-08-07', '2020-08-07', '2020-08-07', '2020-08-07', '2020-08-07', '2020-08-08', '2020-08-08', '2020-08-08', '2020-08-08', '2020-08-08', '2020-08-08', '2020-08-08', '2020-08-08', '2020-08-08', '2020-08-08', '2020-08-08', '2020-08-08', '2020-08-08', '2020-08-08', '2020-08-08', '2020-08-08', '2020-08-08', '2020-08-09', '2020-08-09', '2020-08-09', '2020-08-09', '2020-08-09', '2020-08-09', '2020-08-09', '2020-08-09', '2020-08-09', '2020-08-09', '2020-08-09', '2020-08-09', '2020-08-10', '2020-08-10', '2020-08-10', '2020-08-10', '2020-08-10', '2020-08-10', '2020-08-10', '2020-08-10', '2020-08-10', '2020-08-10', '2020-08-10', '2020-08-10', '2020-08-10', '2020-08-10', '2020-08-10', '2020-08-10', '2020-08-10', '2020-08-10', '2020-08-10', '2020-08-10', '2020-08-10', '2020-08-10', '2020-08-10', '2020-08-11', '2020-08-11', '2020-08-11', '2020-08-11', '2020-08-11', '2020-08-11', '2020-08-11', '2020-08-11', '2020-08-11', '2020-08-11', '2020-08-11', '2020-08-11', '2020-08-11', '2020-08-11', '2020-08-11', '2020-08-11', '2020-08-11', '2020-08-11', '2020-08-11', '2020-08-12', '2020-08-12', '2020-08-12', '2020-08-12', '2020-08-12', '2020-08-12', '2020-08-12', '2020-08-12', '2020-08-12', '2020-08-12', '2020-08-12', '2020-08-12', '2020-08-12', '2020-08-12', '2020-08-12', '2020-08-12', '2020-08-12', '2020-08-12', '2020-08-12', '2020-08-12', '2020-08-12', '2020-08-12', '2020-08-12', '2020-08-12', '2020-08-12', '2020-08-12', '2020-08-12', '2020-08-12', '2020-08-12', '2020-08-12', '2020-08-12', '2020-08-12', '2020-08-13', '2020-08-13', '2020-08-13', '2020-08-13', '2020-08-13', '2020-08-13', '2020-08-13', '2020-08-13', '2020-08-13', '2020-08-13', '2020-08-13', '2020-08-13', '2020-08-13', '2020-08-13', '2020-08-13', '2020-08-13', '2020-08-13', '2020-08-14', '2020-08-14', '2020-08-14', '2020-08-14', '2020-08-14', '2020-08-14', '2020-08-14', '2020-08-14', '2020-08-16', '2020-08-16', '2020-08-16', '2020-08-17', '2020-08-17', '2020-08-17', '2020-08-17', '2020-08-17', '2020-08-17', '2020-08-17', '2020-08-17', '2020-08-17', '2020-08-17', '2020-08-17', '2020-08-17', '2020-08-17', '2020-08-18', '2020-08-18', '2020-08-18', '2020-08-18', '2020-08-18', '2020-08-18', '2020-08-18', '2020-08-18', '2020-08-18', '2020-08-18', '2020-08-18', '2020-08-18', '2020-08-18', '2020-08-18', '2020-08-18', '2020-08-18', '2020-08-18', '2020-08-18', '2020-08-18', '2020-08-18', '2020-08-19', '2020-08-19', '2020-08-20', '2020-08-20', '2020-08-21', '2020-08-21', '2020-08-21', '2020-08-21', '2020-08-22', '2020-08-22', '2020-08-22', '2020-08-23', '2020-08-23', '2020-08-24', '2020-08-24', '2020-08-24', '2020-08-25', '2020-08-25', '2020-08-25', '2020-08-25', '2020-08-26', '2020-08-28', '2020-08-28', '2020-08-28', '2020-08-29', '2020-08-29', '2020-08-30', '2020-08-30', '2020-08-30', '2020-09-02', '2020-09-03', '2020-09-04', '2020-09-04', '2020-09-04', '2020-09-05', '2020-09-05', '2020-09-06', '2020-09-08', '2020-09-08', '2020-09-08', '2020-09-10', '2020-09-12', '2020-09-12', '2020-09-18', '2020-09-22', '2020-09-23', '2020-09-30', '2020-09-30', '2020-10-02', '2020-10-02', '2020-10-02']\n",
            "['Warriors', '76ers', 'Blazers', 'Bucks', 'Bulls', 'Bulls', 'Cavaliers', 'Hawks', 'Magic', 'Mavericks', 'Mavericks', 'Pacers', 'Spurs', 'Thunder', '76ers', 'Celtics', 'Celtics', 'Hornets', 'Lakers', 'Lakers', 'Nuggets', 'Pistons', 'Raptors', 'Raptors', 'Spurs', 'Suns', 'Thunder', 'Warriors', 'Blazers', 'Bucks', 'Bucks', 'Bulls', 'Celtics', 'Celtics', 'Celtics', 'Knicks', 'Knicks', 'Magic', 'Mavericks', 'Mavericks', 'Nets', 'Pistons', 'Pistons', 'Pistons', 'Warriors', 'Warriors', 'Wizards', 'Cavaliers', 'Hornets', 'Nuggets', 'Raptors', 'Raptors', 'Suns', 'Bucks', 'Bucks', 'Bulls', 'Celtics', 'Hawks', 'Hawks', 'Hawks', 'Heat', 'Knicks', 'Lakers', 'Magic', 'Mavericks', 'Mavericks', 'Mavericks', 'Pacers', 'Pacers', 'Pacers', 'Pacers', 'Pelicans', 'Pelicans', 'Pelicans', 'Pistons', 'Rockets', 'Suns', 'Cavaliers', 'Cavaliers', 'Cavaliers', 'Hawks', 'Heat', 'Kings', 'Mavericks', 'Nuggets', 'Rockets', 'Warriors', 'Warriors', 'Hornets', 'Bucks', 'Bucks', 'Bucks', 'Cavaliers', 'Cavaliers', 'Celtics', 'Heat', 'Kings', 'Mavericks', 'Mavericks', 'Mavericks', 'Pacers', 'Pelicans', 'Pistons', 'Raptors', 'Rockets', 'Spurs', 'Thunder', 'Timberwolves', 'Timberwolves', 'Wizards', 'Wizards', 'Wizards', 'Bucks', 'Bucks', 'Cavaliers', 'Mavericks', 'Nuggets', 'Spurs', 'Spurs', 'Hornets', '76ers', 'Clippers', 'Grizzlies', 'Kings', 'Kings', 'Knicks', 'Lakers', 'Mavericks', 'Mavericks', 'Pistons', 'Rockets', 'Rockets', 'Rockets', 'Spurs', 'Spurs', 'Warriors', 'Wizards', 'Wizards', 'Wizards', '76ers', 'Bucks', 'Bucks', 'Bulls', 'Heat', 'Heat', 'Heat', 'Hornets', 'Jazz', 'Jazz', 'Mavericks', 'Mavericks', 'Mavericks', 'Nets', 'Pistons', 'Pistons', 'Thunder', 'Warriors', 'Nuggets', 'Jazz', 'Mavericks', 'Pistons', 'Nets', 'Clippers', 'Celtics', 'Jazz', 'Warriors', 'Spurs', 'Mavericks', 'Nets', 'Nets', 'Nets', 'Wizards', 'Wizards', 'Lakers', 'Spurs', 'Grizzlies', 'Celtics', 'Hornets', 'Nets', 'Pacers', 'Pacers', 'Rockets', 'Bucks', 'Bucks', 'Clippers', 'Grizzlies', 'Jazz', 'Jazz', 'Jazz', 'Kings', 'Lakers', 'Lakers', 'Lakers', 'Mavericks', 'Pelicans', 'Pelicans', 'Spurs', '76ers', 'Blazers', 'Blazers', 'Blazers', 'Bucks', 'Bucks', 'Grizzlies', 'Grizzlies', 'Grizzlies', 'Heat', 'Heat', 'Magic', 'Magic', 'Magic', 'Mavericks', 'Mavericks', 'Nets', 'Nets', 'Nets', 'Nuggets', 'Nuggets', 'Nuggets', 'Nuggets', 'Pacers', 'Pacers', 'Raptors', 'Raptors', 'Rockets', 'Rockets', 'Rockets', 'Spurs', 'Spurs', 'Spurs', 'Suns', 'Suns', 'Suns', 'Suns', 'Thunder', 'Thunder', 'Wizards', 'Wizards', 'Wizards', '76ers', '76ers', 'Heat', 'Heat', 'Nuggets', 'Pacers', 'Raptors', 'Raptors', 'Bucks', 'Magic', 'Magic', 'Mavericks', 'Spurs', 'Bucks', 'Bucks', 'Bucks', 'Heat', 'Heat', 'Nets', 'Nets', 'Pacers', 'Thunder', 'Clippers', 'Grizzlies', 'Heat', 'Jazz', 'Kings', 'Magic', 'Mavericks', 'Nets', 'Pacers', 'Suns', 'Thunder', 'Clippers', 'Grizzlies', 'Lakers', 'Magic', 'Nets', 'Nets', 'Nets', 'Spurs', 'Suns', 'Suns', '76ers', 'Bucks', 'Heat', 'Heat', 'Heat', 'Jazz', 'Jazz', 'Jazz', 'Lakers', 'Lakers', 'Lakers', 'Nuggets', 'Pacers', 'Rockets', '76ers', '76ers', 'Kings', 'Magic', 'Pelicans', 'Raptors', 'Spurs', 'Thunder', 'Thunder', '76ers', 'Blazers', 'Heat', 'Jazz', 'Jazz', 'Jazz', 'Jazz', 'Jazz', 'Kings', 'Lakers', 'Lakers', 'Lakers', 'Mavericks', 'Nuggets', 'Nuggets', 'Pacers', 'Thunder', '76ers', 'Jazz', 'Lakers', 'Magic', 'Mavericks', 'Mavericks', 'Mavericks', 'Pelicans', 'Rockets', 'Thunder', 'Thunder', 'Wizards', '76ers', 'Bucks', 'Heat', 'Heat', 'Jazz', 'Kings', 'Lakers', 'Magic', 'Nets', 'Nets', 'Nets', 'Nuggets', 'Pelicans', 'Pelicans', 'Pelicans', 'Raptors', 'Raptors', 'Raptors', 'Raptors', 'Thunder', 'Thunder', 'Thunder', 'Thunder', '76ers', '76ers', 'Blazers', 'Bucks', 'Bucks', 'Bucks', 'Bucks', 'Clippers', 'Magic', 'Mavericks', 'Mavericks', 'Mavericks', 'Mavericks', 'Pacers', 'Rockets', 'Rockets', 'Rockets', 'Suns', 'Suns', '76ers', '76ers', '76ers', '76ers', '76ers', 'Bucks', 'Bucks', 'Celtics', 'Celtics', 'Celtics', 'Heat', 'Jazz', 'Jazz', 'Jazz', 'Jazz', 'Lakers', 'Magic', 'Nets', 'Nets', 'Nets', 'Nuggets', 'Pacers', 'Raptors', 'Raptors', 'Raptors', 'Rockets', 'Rockets', 'Rockets', 'Thunder', 'Thunder', 'Thunder', 'Thunder', '76ers', 'Blazers', 'Bucks', 'Heat', 'Heat', 'Heat', 'Jazz', 'Jazz', 'Lakers', 'Mavericks', 'Mavericks', 'Nets', 'Nets', 'Pacers', 'Thunder', 'Thunder', 'Wizards', 'Heat', 'Heat', 'Heat', 'Magic', 'Pacers', 'Pacers', 'Rockets', 'Thunder', '76ers', 'Heat', 'Jazz', 'Blazers', 'Celtics', 'Celtics', 'Celtics', 'Clippers', 'Clippers', 'Jazz', 'Jazz', 'Mavericks', 'Nets', 'Nets', 'Raptors', 'Raptors', 'Bucks', 'Celtics', 'Heat', 'Heat', 'Heat', 'Heat', 'Heat', 'Lakers', 'Lakers', 'Lakers', 'Magic', 'Magic', 'Pacers', 'Pacers', 'Rockets', 'Rockets', 'Thunder', 'Thunder', 'Pacers', 'Pacers', 'Clippers', 'Rockets', 'Bucks', 'Thunder', 'Blazers', 'Celtics', 'Raptors', 'Jazz', 'Magic', 'Lakers', 'Lakers', 'Mavericks', 'Raptors', 'Lakers', 'Magic', 'Thunder', 'Blazers', 'Celtics', 'Lakers', 'Mavericks', 'Raptors', 'Magic', 'Magic', 'Rockets', 'Blazers', 'Blazers', 'Bucks', 'Mavericks', 'Nuggets', 'Bucks', 'Clippers', 'Heat', 'Heat', 'Lakers', 'Bucks', 'Celtics', 'Heat', 'Lakers', 'Bucks', 'Bucks', 'Lakers', 'Lakers', 'Rockets', 'Celtics', 'Celtics', 'Heat', 'Heat', 'Lakers', 'Heat', 'Heat', 'Heat']\n"
          ],
          "name": "stdout"
        }
      ]
    },
    {
      "cell_type": "code",
      "metadata": {
        "colab": {
          "base_uri": "https://localhost:8080/"
        },
        "id": "NUsjxAJ0qQAd",
        "outputId": "cb17270b-a394-4e8f-f017-b1b3f5926686"
      },
      "source": [
        "injury_count=[]\n",
        "for i in range(len(all_teams)):\n",
        "  injury_count.append(team_col.count(all_teams[i]))\n",
        "print(injury_count)\n",
        "print(all_teams)\n",
        "\n",
        "state=['CA' , 'PA' , 'OR' , 'WI' , 'IL' , 'OH','GA' , 'AL' , 'TX' , 'IN' , 'AR' , 'OK', 'MA' , 'NC' , 'NV' , 'CO' , 'MI' , 'ND','AZ' , 'NJ' , 'NY' , 'WA' , 'FL' , 'LA','NM' , 'ID' , 'MN' , 'WY' , 'TN' , 'UT']\n",
        "print(len(state))\n",
        "#lat=[40.7305991,34.053717,41.8755546,29.7589382,39.952335,33.4467681,40.7305991,34.053717,41.8755546,29.7589382,39.952335,33.4467681,40.7305991,34.053717,41.8755546,29.7589382,39.952335,33.4467681,40.7305991,34.053717,41.8755546,29.7589382,39.952335,33.4467681,40.7305991,34.053717,41.8755546,29.7589382,39.952335,33.4467681]\n",
        "#lon=[73.9865812,-118.2427266,-87.6244212,95.3676974,-75.163789,-112.0756724,73.9865812,-118.2427266,-87.6244212,95.3676974,-75.163789,-112.0756724,73.9865812,-118.2427266,-87.6244212,95.3676974,-75.163789,-112.0756724,73.9865812,-118.2427266,-87.6244212,95.3676974,-75.163789,-112.0756724,73.9865812,-118.2427266,-87.6244212,95.3676974,-75.163789,-112.0756724]\n",
        "#print(len(lat))\n",
        "#print(len(lon))"
      ],
      "execution_count": 21,
      "outputs": [
        {
          "output_type": "stream",
          "text": [
            "[9, 22, 13, 36, 5, 8, 5, 22, 38, 24, 16, 28, 21, 6, 31, 16, 10, 22, 12, 4, 26, 14, 40, 11, 24, 9, 2, 10, 8, 28]\n",
            "['Warriors', '76ers', 'Blazers', 'Bucks', 'Bulls', 'Cavaliers', 'Hawks', 'Magic', 'Mavericks', 'Pacers', 'Spurs', 'Thunder', 'Celtics', 'Hornets', 'Lakers', 'Nuggets', 'Pistons', 'Raptors', 'Suns', 'Knicks', 'Nets', 'Wizards', 'Heat', 'Pelicans', 'Rockets', 'Kings', 'Timberwolves', 'Clippers', 'Grizzlies', 'Jazz']\n",
            "30\n"
          ],
          "name": "stdout"
        }
      ]
    },
    {
      "cell_type": "code",
      "metadata": {
        "id": "qlEwYm-Z1Yf6"
      },
      "source": [
        "\n",
        "# United States of America Python Dictionary to translate States,\n",
        "# Districts & Territories to Two-Letter codes and vice versa.\n",
        "#\n",
        "# https://gist.github.com/rogerallen/1583593\n",
        "#\n",
        "# Dedicated to the public domain.  To the extent possible under law,\n",
        "# Roger Allen has waived all copyright and related or neighboring\n",
        "# rights to this code.\n",
        "\n",
        "us_state_abbrev = {\n",
        "    'Alabama': 'AL',\n",
        "    'Alaska': 'AK',\n",
        "    'American Samoa': 'AS',\n",
        "    'Arizona': 'AZ',\n",
        "    'Arkansas': 'AR',\n",
        "    'California': 'CA',\n",
        "    'Colorado': 'CO',\n",
        "    'Connecticut': 'CT',\n",
        "    'Delaware': 'DE',\n",
        "    'District of Columbia': 'DC',\n",
        "    'Florida': 'FL',\n",
        "    'Georgia': 'GA',\n",
        "    'Guam': 'GU',\n",
        "    'Hawaii': 'HI',\n",
        "    'Idaho': 'ID',\n",
        "    'Illinois': 'IL',\n",
        "    'Indiana': 'IN',\n",
        "    'Iowa': 'IA',\n",
        "    'Kansas': 'KS',\n",
        "    'Kentucky': 'KY',\n",
        "    'Louisiana': 'LA',\n",
        "    'Maine': 'ME',\n",
        "    'Maryland': 'MD',\n",
        "    'Massachusetts': 'MA',\n",
        "    'Michigan': 'MI',\n",
        "    'Minnesota': 'MN',\n",
        "    'Mississippi': 'MS',\n",
        "    'Missouri': 'MO',\n",
        "    'Montana': 'MT',\n",
        "    'Nebraska': 'NE',\n",
        "    'Nevada': 'NV',\n",
        "    'New Hampshire': 'NH',\n",
        "    'New Jersey': 'NJ',\n",
        "    'New Mexico': 'NM',\n",
        "    'New York': 'NY',\n",
        "    'North Carolina': 'NC',\n",
        "    'North Dakota': 'ND',\n",
        "    'Northern Mariana Islands':'MP',\n",
        "    'Ohio': 'OH',\n",
        "    'Oklahoma': 'OK',\n",
        "    'Oregon': 'OR',\n",
        "    'Pennsylvania': 'PA',\n",
        "    'Puerto Rico': 'PR',\n",
        "    'Rhode Island': 'RI',\n",
        "    'South Carolina': 'SC',\n",
        "    'South Dakota': 'SD',\n",
        "    'Tennessee': 'TN',\n",
        "    'Texas': 'TX',\n",
        "    'Utah': 'UT',\n",
        "    'Vermont': 'VT',\n",
        "    'Virgin Islands': 'VI',\n",
        "    'Virginia': 'VA',\n",
        "    'Washington': 'WA',\n",
        "    'West Virginia': 'WV',\n",
        "    'Wisconsin': 'WI',\n",
        "    'Wyoming': 'WY'\n",
        "}\n"
      ],
      "execution_count": 22,
      "outputs": []
    },
    {
      "cell_type": "code",
      "metadata": {
        "colab": {
          "base_uri": "https://localhost:8080/",
          "height": 1000
        },
        "id": "Mq_NHPWMyivS",
        "outputId": "0766032f-650b-44ab-ba04-9d862568f4e5"
      },
      "source": [
        "import numpy as np\n",
        "import pandas as pd\n",
        "import plotly.express as px\n",
        "\n",
        "#https://www.geeksforgeeks.org/python-pandas-dataframe/\n",
        "\n",
        "# intialise data of lists.\n",
        "data = {'Teams':all_teams,\n",
        "        'number_of_injuries':injury_count}\n",
        " \n",
        "# Create DataFrame\n",
        "dfb = pd.DataFrame(data)\n",
        " \n",
        "# Print the output.\n",
        "print(dfb)\n",
        "\n",
        "# This dataframe has 244 lines, but 4 distinct values for `day`\n",
        "df = px.data.tips()\n",
        "fig = px.pie(dfb, values='number_of_injuries', names='Teams')\n",
        "fig.show()\n"
      ],
      "execution_count": 23,
      "outputs": [
        {
          "output_type": "stream",
          "text": [
            "           Teams  number_of_injuries\n",
            "0       Warriors                   9\n",
            "1          76ers                  22\n",
            "2        Blazers                  13\n",
            "3          Bucks                  36\n",
            "4          Bulls                   5\n",
            "5      Cavaliers                   8\n",
            "6          Hawks                   5\n",
            "7          Magic                  22\n",
            "8      Mavericks                  38\n",
            "9         Pacers                  24\n",
            "10         Spurs                  16\n",
            "11       Thunder                  28\n",
            "12       Celtics                  21\n",
            "13       Hornets                   6\n",
            "14        Lakers                  31\n",
            "15       Nuggets                  16\n",
            "16       Pistons                  10\n",
            "17       Raptors                  22\n",
            "18          Suns                  12\n",
            "19        Knicks                   4\n",
            "20          Nets                  26\n",
            "21       Wizards                  14\n",
            "22          Heat                  40\n",
            "23      Pelicans                  11\n",
            "24       Rockets                  24\n",
            "25         Kings                   9\n",
            "26  Timberwolves                   2\n",
            "27      Clippers                  10\n",
            "28     Grizzlies                   8\n",
            "29          Jazz                  28\n"
          ],
          "name": "stdout"
        },
        {
          "output_type": "display_data",
          "data": {
            "text/html": [
              "<html>\n",
              "<head><meta charset=\"utf-8\" /></head>\n",
              "<body>\n",
              "    <div>\n",
              "            <script src=\"https://cdnjs.cloudflare.com/ajax/libs/mathjax/2.7.5/MathJax.js?config=TeX-AMS-MML_SVG\"></script><script type=\"text/javascript\">if (window.MathJax) {MathJax.Hub.Config({SVG: {font: \"STIX-Web\"}});}</script>\n",
              "                <script type=\"text/javascript\">window.PlotlyConfig = {MathJaxConfig: 'local'};</script>\n",
              "        <script src=\"https://cdn.plot.ly/plotly-latest.min.js\"></script>    \n",
              "            <div id=\"4d21ad01-b87f-4eb1-b849-eff1022d0428\" class=\"plotly-graph-div\" style=\"height:525px; width:100%;\"></div>\n",
              "            <script type=\"text/javascript\">\n",
              "                \n",
              "                    window.PLOTLYENV=window.PLOTLYENV || {};\n",
              "                    \n",
              "                if (document.getElementById(\"4d21ad01-b87f-4eb1-b849-eff1022d0428\")) {\n",
              "                    Plotly.newPlot(\n",
              "                        '4d21ad01-b87f-4eb1-b849-eff1022d0428',\n",
              "                        [{\"domain\": {\"x\": [0.0, 1.0], \"y\": [0.0, 1.0]}, \"hoverlabel\": {\"namelength\": 0}, \"hovertemplate\": \"Teams=%{label}<br>number_of_injuries=%{value}\", \"labels\": [\"Warriors\", \"76ers\", \"Blazers\", \"Bucks\", \"Bulls\", \"Cavaliers\", \"Hawks\", \"Magic\", \"Mavericks\", \"Pacers\", \"Spurs\", \"Thunder\", \"Celtics\", \"Hornets\", \"Lakers\", \"Nuggets\", \"Pistons\", \"Raptors\", \"Suns\", \"Knicks\", \"Nets\", \"Wizards\", \"Heat\", \"Pelicans\", \"Rockets\", \"Kings\", \"Timberwolves\", \"Clippers\", \"Grizzlies\", \"Jazz\"], \"legendgroup\": \"\", \"name\": \"\", \"showlegend\": true, \"type\": \"pie\", \"values\": [9, 22, 13, 36, 5, 8, 5, 22, 38, 24, 16, 28, 21, 6, 31, 16, 10, 22, 12, 4, 26, 14, 40, 11, 24, 9, 2, 10, 8, 28]}],\n",
              "                        {\"legend\": {\"tracegroupgap\": 0}, \"margin\": {\"t\": 60}, \"template\": {\"data\": {\"bar\": [{\"error_x\": {\"color\": \"#2a3f5f\"}, \"error_y\": {\"color\": \"#2a3f5f\"}, \"marker\": {\"line\": {\"color\": \"#E5ECF6\", \"width\": 0.5}}, \"type\": \"bar\"}], \"barpolar\": [{\"marker\": {\"line\": {\"color\": \"#E5ECF6\", \"width\": 0.5}}, \"type\": \"barpolar\"}], \"carpet\": [{\"aaxis\": {\"endlinecolor\": \"#2a3f5f\", \"gridcolor\": \"white\", \"linecolor\": \"white\", \"minorgridcolor\": \"white\", \"startlinecolor\": \"#2a3f5f\"}, \"baxis\": {\"endlinecolor\": \"#2a3f5f\", \"gridcolor\": \"white\", \"linecolor\": \"white\", \"minorgridcolor\": \"white\", \"startlinecolor\": \"#2a3f5f\"}, \"type\": \"carpet\"}], \"choropleth\": [{\"colorbar\": {\"outlinewidth\": 0, \"ticks\": \"\"}, \"type\": \"choropleth\"}], \"contour\": [{\"colorbar\": {\"outlinewidth\": 0, \"ticks\": \"\"}, \"colorscale\": [[0.0, \"#0d0887\"], [0.1111111111111111, \"#46039f\"], [0.2222222222222222, \"#7201a8\"], [0.3333333333333333, \"#9c179e\"], [0.4444444444444444, \"#bd3786\"], [0.5555555555555556, \"#d8576b\"], [0.6666666666666666, \"#ed7953\"], [0.7777777777777778, \"#fb9f3a\"], [0.8888888888888888, \"#fdca26\"], [1.0, \"#f0f921\"]], \"type\": \"contour\"}], \"contourcarpet\": [{\"colorbar\": {\"outlinewidth\": 0, \"ticks\": \"\"}, \"type\": \"contourcarpet\"}], \"heatmap\": [{\"colorbar\": {\"outlinewidth\": 0, \"ticks\": \"\"}, \"colorscale\": [[0.0, \"#0d0887\"], [0.1111111111111111, \"#46039f\"], [0.2222222222222222, \"#7201a8\"], [0.3333333333333333, \"#9c179e\"], [0.4444444444444444, \"#bd3786\"], [0.5555555555555556, \"#d8576b\"], [0.6666666666666666, \"#ed7953\"], [0.7777777777777778, \"#fb9f3a\"], [0.8888888888888888, \"#fdca26\"], [1.0, \"#f0f921\"]], \"type\": \"heatmap\"}], \"heatmapgl\": [{\"colorbar\": {\"outlinewidth\": 0, \"ticks\": \"\"}, \"colorscale\": [[0.0, \"#0d0887\"], [0.1111111111111111, \"#46039f\"], [0.2222222222222222, \"#7201a8\"], [0.3333333333333333, \"#9c179e\"], [0.4444444444444444, \"#bd3786\"], [0.5555555555555556, \"#d8576b\"], [0.6666666666666666, \"#ed7953\"], [0.7777777777777778, \"#fb9f3a\"], [0.8888888888888888, \"#fdca26\"], [1.0, \"#f0f921\"]], \"type\": \"heatmapgl\"}], \"histogram\": [{\"marker\": {\"colorbar\": {\"outlinewidth\": 0, \"ticks\": \"\"}}, \"type\": \"histogram\"}], \"histogram2d\": [{\"colorbar\": {\"outlinewidth\": 0, \"ticks\": \"\"}, \"colorscale\": [[0.0, \"#0d0887\"], [0.1111111111111111, \"#46039f\"], [0.2222222222222222, \"#7201a8\"], [0.3333333333333333, \"#9c179e\"], [0.4444444444444444, \"#bd3786\"], [0.5555555555555556, \"#d8576b\"], [0.6666666666666666, \"#ed7953\"], [0.7777777777777778, \"#fb9f3a\"], [0.8888888888888888, \"#fdca26\"], [1.0, \"#f0f921\"]], \"type\": \"histogram2d\"}], \"histogram2dcontour\": [{\"colorbar\": {\"outlinewidth\": 0, \"ticks\": \"\"}, \"colorscale\": [[0.0, \"#0d0887\"], [0.1111111111111111, \"#46039f\"], [0.2222222222222222, \"#7201a8\"], [0.3333333333333333, \"#9c179e\"], [0.4444444444444444, \"#bd3786\"], [0.5555555555555556, \"#d8576b\"], [0.6666666666666666, \"#ed7953\"], [0.7777777777777778, \"#fb9f3a\"], [0.8888888888888888, \"#fdca26\"], [1.0, \"#f0f921\"]], \"type\": \"histogram2dcontour\"}], \"mesh3d\": [{\"colorbar\": {\"outlinewidth\": 0, \"ticks\": \"\"}, \"type\": \"mesh3d\"}], \"parcoords\": [{\"line\": {\"colorbar\": {\"outlinewidth\": 0, \"ticks\": \"\"}}, \"type\": \"parcoords\"}], \"pie\": [{\"automargin\": true, \"type\": \"pie\"}], \"scatter\": [{\"marker\": {\"colorbar\": {\"outlinewidth\": 0, \"ticks\": \"\"}}, \"type\": \"scatter\"}], \"scatter3d\": [{\"line\": {\"colorbar\": {\"outlinewidth\": 0, \"ticks\": \"\"}}, \"marker\": {\"colorbar\": {\"outlinewidth\": 0, \"ticks\": \"\"}}, \"type\": \"scatter3d\"}], \"scattercarpet\": [{\"marker\": {\"colorbar\": {\"outlinewidth\": 0, \"ticks\": \"\"}}, \"type\": \"scattercarpet\"}], \"scattergeo\": [{\"marker\": {\"colorbar\": {\"outlinewidth\": 0, \"ticks\": \"\"}}, \"type\": \"scattergeo\"}], \"scattergl\": [{\"marker\": {\"colorbar\": {\"outlinewidth\": 0, \"ticks\": \"\"}}, \"type\": \"scattergl\"}], \"scattermapbox\": [{\"marker\": {\"colorbar\": {\"outlinewidth\": 0, \"ticks\": \"\"}}, \"type\": \"scattermapbox\"}], \"scatterpolar\": [{\"marker\": {\"colorbar\": {\"outlinewidth\": 0, \"ticks\": \"\"}}, \"type\": \"scatterpolar\"}], \"scatterpolargl\": [{\"marker\": {\"colorbar\": {\"outlinewidth\": 0, \"ticks\": \"\"}}, \"type\": \"scatterpolargl\"}], \"scatterternary\": [{\"marker\": {\"colorbar\": {\"outlinewidth\": 0, \"ticks\": \"\"}}, \"type\": \"scatterternary\"}], \"surface\": [{\"colorbar\": {\"outlinewidth\": 0, \"ticks\": \"\"}, \"colorscale\": [[0.0, \"#0d0887\"], [0.1111111111111111, \"#46039f\"], [0.2222222222222222, \"#7201a8\"], [0.3333333333333333, \"#9c179e\"], [0.4444444444444444, \"#bd3786\"], [0.5555555555555556, \"#d8576b\"], [0.6666666666666666, \"#ed7953\"], [0.7777777777777778, \"#fb9f3a\"], [0.8888888888888888, \"#fdca26\"], [1.0, \"#f0f921\"]], \"type\": \"surface\"}], \"table\": [{\"cells\": {\"fill\": {\"color\": \"#EBF0F8\"}, \"line\": {\"color\": \"white\"}}, \"header\": {\"fill\": {\"color\": \"#C8D4E3\"}, \"line\": {\"color\": \"white\"}}, \"type\": \"table\"}]}, \"layout\": {\"annotationdefaults\": {\"arrowcolor\": \"#2a3f5f\", \"arrowhead\": 0, \"arrowwidth\": 1}, \"coloraxis\": {\"colorbar\": {\"outlinewidth\": 0, \"ticks\": \"\"}}, \"colorscale\": {\"diverging\": [[0, \"#8e0152\"], [0.1, \"#c51b7d\"], [0.2, \"#de77ae\"], [0.3, \"#f1b6da\"], [0.4, \"#fde0ef\"], [0.5, \"#f7f7f7\"], [0.6, \"#e6f5d0\"], [0.7, \"#b8e186\"], [0.8, \"#7fbc41\"], [0.9, \"#4d9221\"], [1, \"#276419\"]], \"sequential\": [[0.0, \"#0d0887\"], [0.1111111111111111, \"#46039f\"], [0.2222222222222222, \"#7201a8\"], [0.3333333333333333, \"#9c179e\"], [0.4444444444444444, \"#bd3786\"], [0.5555555555555556, \"#d8576b\"], [0.6666666666666666, \"#ed7953\"], [0.7777777777777778, \"#fb9f3a\"], [0.8888888888888888, \"#fdca26\"], [1.0, \"#f0f921\"]], \"sequentialminus\": [[0.0, \"#0d0887\"], [0.1111111111111111, \"#46039f\"], [0.2222222222222222, \"#7201a8\"], [0.3333333333333333, \"#9c179e\"], [0.4444444444444444, \"#bd3786\"], [0.5555555555555556, \"#d8576b\"], [0.6666666666666666, \"#ed7953\"], [0.7777777777777778, \"#fb9f3a\"], [0.8888888888888888, \"#fdca26\"], [1.0, \"#f0f921\"]]}, \"colorway\": [\"#636efa\", \"#EF553B\", \"#00cc96\", \"#ab63fa\", \"#FFA15A\", \"#19d3f3\", \"#FF6692\", \"#B6E880\", \"#FF97FF\", \"#FECB52\"], \"font\": {\"color\": \"#2a3f5f\"}, \"geo\": {\"bgcolor\": \"white\", \"lakecolor\": \"white\", \"landcolor\": \"#E5ECF6\", \"showlakes\": true, \"showland\": true, \"subunitcolor\": \"white\"}, \"hoverlabel\": {\"align\": \"left\"}, \"hovermode\": \"closest\", \"mapbox\": {\"style\": \"light\"}, \"paper_bgcolor\": \"white\", \"plot_bgcolor\": \"#E5ECF6\", \"polar\": {\"angularaxis\": {\"gridcolor\": \"white\", \"linecolor\": \"white\", \"ticks\": \"\"}, \"bgcolor\": \"#E5ECF6\", \"radialaxis\": {\"gridcolor\": \"white\", \"linecolor\": \"white\", \"ticks\": \"\"}}, \"scene\": {\"xaxis\": {\"backgroundcolor\": \"#E5ECF6\", \"gridcolor\": \"white\", \"gridwidth\": 2, \"linecolor\": \"white\", \"showbackground\": true, \"ticks\": \"\", \"zerolinecolor\": \"white\"}, \"yaxis\": {\"backgroundcolor\": \"#E5ECF6\", \"gridcolor\": \"white\", \"gridwidth\": 2, \"linecolor\": \"white\", \"showbackground\": true, \"ticks\": \"\", \"zerolinecolor\": \"white\"}, \"zaxis\": {\"backgroundcolor\": \"#E5ECF6\", \"gridcolor\": \"white\", \"gridwidth\": 2, \"linecolor\": \"white\", \"showbackground\": true, \"ticks\": \"\", \"zerolinecolor\": \"white\"}}, \"shapedefaults\": {\"line\": {\"color\": \"#2a3f5f\"}}, \"ternary\": {\"aaxis\": {\"gridcolor\": \"white\", \"linecolor\": \"white\", \"ticks\": \"\"}, \"baxis\": {\"gridcolor\": \"white\", \"linecolor\": \"white\", \"ticks\": \"\"}, \"bgcolor\": \"#E5ECF6\", \"caxis\": {\"gridcolor\": \"white\", \"linecolor\": \"white\", \"ticks\": \"\"}}, \"title\": {\"x\": 0.05}, \"xaxis\": {\"automargin\": true, \"gridcolor\": \"white\", \"linecolor\": \"white\", \"ticks\": \"\", \"title\": {\"standoff\": 15}, \"zerolinecolor\": \"white\", \"zerolinewidth\": 2}, \"yaxis\": {\"automargin\": true, \"gridcolor\": \"white\", \"linecolor\": \"white\", \"ticks\": \"\", \"title\": {\"standoff\": 15}, \"zerolinecolor\": \"white\", \"zerolinewidth\": 2}}}},\n",
              "                        {\"responsive\": true}\n",
              "                    ).then(function(){\n",
              "                            \n",
              "var gd = document.getElementById('4d21ad01-b87f-4eb1-b849-eff1022d0428');\n",
              "var x = new MutationObserver(function (mutations, observer) {{\n",
              "        var display = window.getComputedStyle(gd).display;\n",
              "        if (!display || display === 'none') {{\n",
              "            console.log([gd, 'removed!']);\n",
              "            Plotly.purge(gd);\n",
              "            observer.disconnect();\n",
              "        }}\n",
              "}});\n",
              "\n",
              "// Listen for the removal of the full notebook cells\n",
              "var notebookContainer = gd.closest('#notebook-container');\n",
              "if (notebookContainer) {{\n",
              "    x.observe(notebookContainer, {childList: true});\n",
              "}}\n",
              "\n",
              "// Listen for the clearing of the current output cell\n",
              "var outputEl = gd.closest('.output');\n",
              "if (outputEl) {{\n",
              "    x.observe(outputEl, {childList: true});\n",
              "}}\n",
              "\n",
              "                        })\n",
              "                };\n",
              "                \n",
              "            </script>\n",
              "        </div>\n",
              "</body>\n",
              "</html>"
            ]
          },
          "metadata": {
            "tags": []
          }
        }
      ]
    },
    {
      "cell_type": "code",
      "metadata": {
        "colab": {
          "base_uri": "https://localhost:8080/",
          "height": 901
        },
        "id": "QNo3-TcMF0ag",
        "outputId": "b8719373-ae80-453d-9a97-9474299f5b39"
      },
      "source": [
        "import plotly.graph_objects as go\n",
        "\n",
        "import pandas as pd\n",
        "\n",
        "#df = pd.read_csv('https://raw.githubusercontent.com/plotly/datasets/master/2014_us_cities.csv')\n",
        "#df.head()\n",
        "\n",
        "\n",
        "\n",
        "all_teams[0]=['Warriors, Clippers, Lakers, Kings']\n",
        "all_teams[7]=['Magic, Heat']\n",
        "all_teams[20]=['Nets, Knicks']\n",
        "all_teams[8]= ['Mavericks, Rockets, Spures']\n",
        "\n",
        "\n",
        "state[27]='CA*'\n",
        "state[14]='CA*'\n",
        "state[25]='CA*'\n",
        "\n",
        "state[24]='TX*'\n",
        "state[10]='TX*'\n",
        "\n",
        "state[19]='NY*'\n",
        "\n",
        "state[22]='FL*'\n",
        "\n",
        "injury_count[0]=(9+31+9+10 )/ 4\n",
        "injury_count[7]=(22+40)/2\n",
        "injury_count[8]=(38+24)/2\n",
        "injury_count[19]=(4+26)/2\n",
        "\n",
        "\n",
        "# intialise data of lists.\n",
        "data = {'Teams':all_teams,\n",
        "        'number_of_injuries':injury_count,\n",
        "        'state':state}\n",
        " \n",
        "# Create DataFrame\n",
        "df = pd.DataFrame(data)\n",
        "\n",
        "df\n",
        "\n"
      ],
      "execution_count": 24,
      "outputs": [
        {
          "output_type": "execute_result",
          "data": {
            "text/html": [
              "<div>\n",
              "<style scoped>\n",
              "    .dataframe tbody tr th:only-of-type {\n",
              "        vertical-align: middle;\n",
              "    }\n",
              "\n",
              "    .dataframe tbody tr th {\n",
              "        vertical-align: top;\n",
              "    }\n",
              "\n",
              "    .dataframe thead th {\n",
              "        text-align: right;\n",
              "    }\n",
              "</style>\n",
              "<table border=\"1\" class=\"dataframe\">\n",
              "  <thead>\n",
              "    <tr style=\"text-align: right;\">\n",
              "      <th></th>\n",
              "      <th>Teams</th>\n",
              "      <th>number_of_injuries</th>\n",
              "      <th>state</th>\n",
              "    </tr>\n",
              "  </thead>\n",
              "  <tbody>\n",
              "    <tr>\n",
              "      <th>0</th>\n",
              "      <td>[Warriors, Clippers, Lakers, Kings]</td>\n",
              "      <td>14.75</td>\n",
              "      <td>CA</td>\n",
              "    </tr>\n",
              "    <tr>\n",
              "      <th>1</th>\n",
              "      <td>76ers</td>\n",
              "      <td>22.00</td>\n",
              "      <td>PA</td>\n",
              "    </tr>\n",
              "    <tr>\n",
              "      <th>2</th>\n",
              "      <td>Blazers</td>\n",
              "      <td>13.00</td>\n",
              "      <td>OR</td>\n",
              "    </tr>\n",
              "    <tr>\n",
              "      <th>3</th>\n",
              "      <td>Bucks</td>\n",
              "      <td>36.00</td>\n",
              "      <td>WI</td>\n",
              "    </tr>\n",
              "    <tr>\n",
              "      <th>4</th>\n",
              "      <td>Bulls</td>\n",
              "      <td>5.00</td>\n",
              "      <td>IL</td>\n",
              "    </tr>\n",
              "    <tr>\n",
              "      <th>5</th>\n",
              "      <td>Cavaliers</td>\n",
              "      <td>8.00</td>\n",
              "      <td>OH</td>\n",
              "    </tr>\n",
              "    <tr>\n",
              "      <th>6</th>\n",
              "      <td>Hawks</td>\n",
              "      <td>5.00</td>\n",
              "      <td>GA</td>\n",
              "    </tr>\n",
              "    <tr>\n",
              "      <th>7</th>\n",
              "      <td>[Magic, Heat]</td>\n",
              "      <td>31.00</td>\n",
              "      <td>AL</td>\n",
              "    </tr>\n",
              "    <tr>\n",
              "      <th>8</th>\n",
              "      <td>[Mavericks, Rockets, Spures]</td>\n",
              "      <td>31.00</td>\n",
              "      <td>TX</td>\n",
              "    </tr>\n",
              "    <tr>\n",
              "      <th>9</th>\n",
              "      <td>Pacers</td>\n",
              "      <td>24.00</td>\n",
              "      <td>IN</td>\n",
              "    </tr>\n",
              "    <tr>\n",
              "      <th>10</th>\n",
              "      <td>Spurs</td>\n",
              "      <td>16.00</td>\n",
              "      <td>TX*</td>\n",
              "    </tr>\n",
              "    <tr>\n",
              "      <th>11</th>\n",
              "      <td>Thunder</td>\n",
              "      <td>28.00</td>\n",
              "      <td>OK</td>\n",
              "    </tr>\n",
              "    <tr>\n",
              "      <th>12</th>\n",
              "      <td>Celtics</td>\n",
              "      <td>21.00</td>\n",
              "      <td>MA</td>\n",
              "    </tr>\n",
              "    <tr>\n",
              "      <th>13</th>\n",
              "      <td>Hornets</td>\n",
              "      <td>6.00</td>\n",
              "      <td>NC</td>\n",
              "    </tr>\n",
              "    <tr>\n",
              "      <th>14</th>\n",
              "      <td>Lakers</td>\n",
              "      <td>31.00</td>\n",
              "      <td>CA*</td>\n",
              "    </tr>\n",
              "    <tr>\n",
              "      <th>15</th>\n",
              "      <td>Nuggets</td>\n",
              "      <td>16.00</td>\n",
              "      <td>CO</td>\n",
              "    </tr>\n",
              "    <tr>\n",
              "      <th>16</th>\n",
              "      <td>Pistons</td>\n",
              "      <td>10.00</td>\n",
              "      <td>MI</td>\n",
              "    </tr>\n",
              "    <tr>\n",
              "      <th>17</th>\n",
              "      <td>Raptors</td>\n",
              "      <td>22.00</td>\n",
              "      <td>ND</td>\n",
              "    </tr>\n",
              "    <tr>\n",
              "      <th>18</th>\n",
              "      <td>Suns</td>\n",
              "      <td>12.00</td>\n",
              "      <td>AZ</td>\n",
              "    </tr>\n",
              "    <tr>\n",
              "      <th>19</th>\n",
              "      <td>Knicks</td>\n",
              "      <td>15.00</td>\n",
              "      <td>NY*</td>\n",
              "    </tr>\n",
              "    <tr>\n",
              "      <th>20</th>\n",
              "      <td>[Nets, Knicks]</td>\n",
              "      <td>26.00</td>\n",
              "      <td>NY</td>\n",
              "    </tr>\n",
              "    <tr>\n",
              "      <th>21</th>\n",
              "      <td>Wizards</td>\n",
              "      <td>14.00</td>\n",
              "      <td>WA</td>\n",
              "    </tr>\n",
              "    <tr>\n",
              "      <th>22</th>\n",
              "      <td>Heat</td>\n",
              "      <td>40.00</td>\n",
              "      <td>FL*</td>\n",
              "    </tr>\n",
              "    <tr>\n",
              "      <th>23</th>\n",
              "      <td>Pelicans</td>\n",
              "      <td>11.00</td>\n",
              "      <td>LA</td>\n",
              "    </tr>\n",
              "    <tr>\n",
              "      <th>24</th>\n",
              "      <td>Rockets</td>\n",
              "      <td>24.00</td>\n",
              "      <td>TX*</td>\n",
              "    </tr>\n",
              "    <tr>\n",
              "      <th>25</th>\n",
              "      <td>Kings</td>\n",
              "      <td>9.00</td>\n",
              "      <td>CA*</td>\n",
              "    </tr>\n",
              "    <tr>\n",
              "      <th>26</th>\n",
              "      <td>Timberwolves</td>\n",
              "      <td>2.00</td>\n",
              "      <td>MN</td>\n",
              "    </tr>\n",
              "    <tr>\n",
              "      <th>27</th>\n",
              "      <td>Clippers</td>\n",
              "      <td>10.00</td>\n",
              "      <td>CA*</td>\n",
              "    </tr>\n",
              "    <tr>\n",
              "      <th>28</th>\n",
              "      <td>Grizzlies</td>\n",
              "      <td>8.00</td>\n",
              "      <td>TN</td>\n",
              "    </tr>\n",
              "    <tr>\n",
              "      <th>29</th>\n",
              "      <td>Jazz</td>\n",
              "      <td>28.00</td>\n",
              "      <td>UT</td>\n",
              "    </tr>\n",
              "  </tbody>\n",
              "</table>\n",
              "</div>"
            ],
            "text/plain": [
              "                                  Teams  number_of_injuries state\n",
              "0   [Warriors, Clippers, Lakers, Kings]               14.75    CA\n",
              "1                                 76ers               22.00    PA\n",
              "2                               Blazers               13.00    OR\n",
              "3                                 Bucks               36.00    WI\n",
              "4                                 Bulls                5.00    IL\n",
              "5                             Cavaliers                8.00    OH\n",
              "6                                 Hawks                5.00    GA\n",
              "7                         [Magic, Heat]               31.00    AL\n",
              "8          [Mavericks, Rockets, Spures]               31.00    TX\n",
              "9                                Pacers               24.00    IN\n",
              "10                                Spurs               16.00   TX*\n",
              "11                              Thunder               28.00    OK\n",
              "12                              Celtics               21.00    MA\n",
              "13                              Hornets                6.00    NC\n",
              "14                               Lakers               31.00   CA*\n",
              "15                              Nuggets               16.00    CO\n",
              "16                              Pistons               10.00    MI\n",
              "17                              Raptors               22.00    ND\n",
              "18                                 Suns               12.00    AZ\n",
              "19                               Knicks               15.00   NY*\n",
              "20                       [Nets, Knicks]               26.00    NY\n",
              "21                              Wizards               14.00    WA\n",
              "22                                 Heat               40.00   FL*\n",
              "23                             Pelicans               11.00    LA\n",
              "24                              Rockets               24.00   TX*\n",
              "25                                Kings                9.00   CA*\n",
              "26                         Timberwolves                2.00    MN\n",
              "27                             Clippers               10.00   CA*\n",
              "28                            Grizzlies                8.00    TN\n",
              "29                                 Jazz               28.00    UT"
            ]
          },
          "metadata": {
            "tags": []
          },
          "execution_count": 24
        }
      ]
    },
    {
      "cell_type": "code",
      "metadata": {
        "id": "RdwP4XqJ0CyG"
      },
      "source": [
        ""
      ],
      "execution_count": 24,
      "outputs": []
    },
    {
      "cell_type": "code",
      "metadata": {
        "colab": {
          "base_uri": "https://localhost:8080/",
          "height": 546
        },
        "id": "2p2Qtaw2OnYC",
        "outputId": "bbedf299-ab89-42b7-81a3-30beb09c555c"
      },
      "source": [
        "import numpy as np\n",
        "import pandas as pd\n",
        "\n",
        "import chart_studio.plotly as py\n",
        "\n",
        "\n",
        "data = {'Teams':all_teams,\n",
        "        'number_of_injuries':injury_count,\n",
        "        'state':state,}\n",
        " \n",
        "# Create DataFrame\n",
        "df = pd.DataFrame(data)\n",
        "\n",
        "\n",
        "df.head()\n",
        "\n",
        "df[\"text\"] = '---' + df['Teams'].astype(str) +'---'  + 'number_of_injuries:' + df['number_of_injuries'].astype(str) + '<br>' + 'State' + df['state']\n",
        "\n",
        "colorlist=[1.0, 'rgb(0, 0, 255)']\n",
        "data = [dict(type='choropleth',autocolorscale=False, locations = df['state'], z=df['number_of_injuries'], locationmode = 'USA-states', text = df['text'], colorscale = 'aggrnyl', colorbar= dict(title=\"Number of Injuries per team\"))]\n",
        "\n",
        "\n",
        "data\n",
        "\n",
        "layout = dict(title='NBA_Injuries',geo = dict(scope='usa',projection=dict(type='albers usa'),showlakes = True,lakecolor= 'rgb(66,165,245)'))\n",
        "layout\n",
        "\n",
        "fig = dict(data=data, layout=layout)\n",
        "\n",
        "\n",
        "py.iplot(fig, filename='d3-choropleth-map')"
      ],
      "execution_count": 25,
      "outputs": [
        {
          "output_type": "execute_result",
          "data": {
            "text/html": [
              "\n",
              "        <iframe\n",
              "            width=\"100%\"\n",
              "            height=\"525px\"\n",
              "            src=\"https://plotly.com/~hamzahsal/1.embed\"\n",
              "            frameborder=\"0\"\n",
              "            allowfullscreen\n",
              "        ></iframe>\n",
              "        "
            ],
            "text/plain": [
              "<IPython.lib.display.IFrame at 0x7f746b9029d0>"
            ]
          },
          "metadata": {
            "tags": []
          },
          "execution_count": 25
        }
      ]
    }
  ]
}